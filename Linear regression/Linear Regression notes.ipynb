{
 "cells": [
  {
   "cell_type": "markdown",
   "id": "c9c71895",
   "metadata": {},
   "source": [
    "# Linear Regression"
   ]
  },
  {
   "cell_type": "markdown",
   "id": "cdef41fc",
   "metadata": {},
   "source": [
    "## Steps\n",
    "\n",
    "### 1) Import the required library\n",
    "\n",
    "### 2) Import data\n",
    "\n",
    "### 3) Data cleaning\n",
    "        1) Check missing values \n",
    "        2) Check Duplicate\n",
    "        3) Check out layers by using 'IQR' method\n",
    "        4) Check structure or unstructured data\n",
    "        5) Check data type in a correct format\n",
    "        \n",
    "### 4) EDA (Exploratory Data Analysis)\n",
    "        1) Plot the data and check the relations\n",
    "        2) Correlation(Gradient descent) (The value of corr is above -0.2 or above +0.2)\n",
    "\n",
    "### 5) Encoad the data(Convert categorical data to numerical data) (if it necessary we use else skip it)\n",
    "        1) Lable encoding\n",
    "            It is used for binary categorical data or binary ordered categorical data\n",
    "        2) One hot encoding\n",
    "            It is used to Multiclass categorical data for nominal data or unordered data\n",
    "            \n",
    "### 6) Split the data      \n",
    "         Futures (X - axis)(2D Matrix)\n",
    "         Targe  (Y - axis)(1D Array)\n",
    "         Train, Test, Split, Random state\n",
    "\n",
    "### 7) Scaling the data (Scaling only for multi-column  with different range data ) (note:- Scale only future)\n",
    "           1) Import model\n",
    "           2) Initialize\n",
    "           3) Fit (Learning process)\n",
    "           4) Transform\n",
    "          \n",
    "### 8) Apply Machine learning algorithm\n",
    "           1) Import model\n",
    "           2) Initialize\n",
    "           3) Fit (learning process)\n",
    "           4) Predict\n",
    "\n",
    "### 9)Evaluation matric (Check whether the model is correct or not)\n",
    "            The evaluation metric for regression  is r^2 between minus infinite to 1\n",
    "            A higher the R^2 is a better model\n"
   ]
  },
  {
   "cell_type": "markdown",
   "id": "9d004db9",
   "metadata": {},
   "source": [
    "## a) Simple Linear Regression \n",
    "* General equation of any straight line \n",
    "* y=m*(x) + c \n",
    "* y - y-axis \n",
    "* m - gradient or slope \n",
    "* x - x-axis \n",
    "* c - intercept"
   ]
  },
  {
   "cell_type": "code",
   "execution_count": 1,
   "id": "82fadfac",
   "metadata": {},
   "outputs": [],
   "source": [
    "# 1) Import the required library\n",
    "\n",
    "# File read\n",
    "import pandas as pd\n",
    "import numpy as np\n",
    "\n",
    "# EDA\n",
    "import matplotlib.pyplot as plt\n",
    "\n",
    "# Data spliting\n",
    "from sklearn.model_selection import train_test_split\n",
    "\n",
    "# Apply Machine learning algorithm\n",
    "from sklearn.linear_model import LinearRegression \n",
    "\n",
    "# Evaluation matric\n",
    "from sklearn import metrics"
   ]
  },
  {
   "cell_type": "code",
   "execution_count": 2,
   "id": "7d10c811",
   "metadata": {},
   "outputs": [],
   "source": [
    "# 2) Import data\n",
    "data = pd.read_csv('student_scores.csv')"
   ]
  },
  {
   "cell_type": "code",
   "execution_count": 3,
   "id": "510b0024",
   "metadata": {},
   "outputs": [
    {
     "data": {
      "text/html": [
       "<div>\n",
       "<style scoped>\n",
       "    .dataframe tbody tr th:only-of-type {\n",
       "        vertical-align: middle;\n",
       "    }\n",
       "\n",
       "    .dataframe tbody tr th {\n",
       "        vertical-align: top;\n",
       "    }\n",
       "\n",
       "    .dataframe thead th {\n",
       "        text-align: right;\n",
       "    }\n",
       "</style>\n",
       "<table border=\"1\" class=\"dataframe\">\n",
       "  <thead>\n",
       "    <tr style=\"text-align: right;\">\n",
       "      <th></th>\n",
       "      <th>Hours</th>\n",
       "      <th>Scores</th>\n",
       "    </tr>\n",
       "  </thead>\n",
       "  <tbody>\n",
       "    <tr>\n",
       "      <th>0</th>\n",
       "      <td>2.5</td>\n",
       "      <td>21</td>\n",
       "    </tr>\n",
       "    <tr>\n",
       "      <th>1</th>\n",
       "      <td>5.1</td>\n",
       "      <td>47</td>\n",
       "    </tr>\n",
       "    <tr>\n",
       "      <th>2</th>\n",
       "      <td>3.2</td>\n",
       "      <td>27</td>\n",
       "    </tr>\n",
       "    <tr>\n",
       "      <th>3</th>\n",
       "      <td>8.5</td>\n",
       "      <td>75</td>\n",
       "    </tr>\n",
       "    <tr>\n",
       "      <th>4</th>\n",
       "      <td>3.5</td>\n",
       "      <td>30</td>\n",
       "    </tr>\n",
       "  </tbody>\n",
       "</table>\n",
       "</div>"
      ],
      "text/plain": [
       "   Hours  Scores\n",
       "0    2.5      21\n",
       "1    5.1      47\n",
       "2    3.2      27\n",
       "3    8.5      75\n",
       "4    3.5      30"
      ]
     },
     "execution_count": 3,
     "metadata": {},
     "output_type": "execute_result"
    }
   ],
   "source": [
    "data.head()"
   ]
  },
  {
   "cell_type": "code",
   "execution_count": 4,
   "id": "f67b8884",
   "metadata": {},
   "outputs": [
    {
     "data": {
      "text/plain": [
       "Hours     0\n",
       "Scores    0\n",
       "dtype: int64"
      ]
     },
     "execution_count": 4,
     "metadata": {},
     "output_type": "execute_result"
    }
   ],
   "source": [
    "# 3) Data cleaning\n",
    "    # 1) Check missing values\n",
    "data.isnull().sum()"
   ]
  },
  {
   "cell_type": "code",
   "execution_count": 5,
   "id": "5927fe71",
   "metadata": {},
   "outputs": [
    {
     "data": {
      "text/plain": [
       "0"
      ]
     },
     "execution_count": 5,
     "metadata": {},
     "output_type": "execute_result"
    }
   ],
   "source": [
    "# 3) Data cleaning\n",
    "    # 2) Check Duplicate\n",
    "data.duplicated().sum()"
   ]
  },
  {
   "cell_type": "code",
   "execution_count": 6,
   "id": "74504c6b",
   "metadata": {},
   "outputs": [
    {
     "data": {
      "text/html": [
       "<div>\n",
       "<style scoped>\n",
       "    .dataframe tbody tr th:only-of-type {\n",
       "        vertical-align: middle;\n",
       "    }\n",
       "\n",
       "    .dataframe tbody tr th {\n",
       "        vertical-align: top;\n",
       "    }\n",
       "\n",
       "    .dataframe thead th {\n",
       "        text-align: right;\n",
       "    }\n",
       "</style>\n",
       "<table border=\"1\" class=\"dataframe\">\n",
       "  <thead>\n",
       "    <tr style=\"text-align: right;\">\n",
       "      <th></th>\n",
       "      <th>Hours</th>\n",
       "      <th>Scores</th>\n",
       "    </tr>\n",
       "  </thead>\n",
       "  <tbody>\n",
       "    <tr>\n",
       "      <th>count</th>\n",
       "      <td>25.000000</td>\n",
       "      <td>25.000000</td>\n",
       "    </tr>\n",
       "    <tr>\n",
       "      <th>mean</th>\n",
       "      <td>5.012000</td>\n",
       "      <td>51.480000</td>\n",
       "    </tr>\n",
       "    <tr>\n",
       "      <th>std</th>\n",
       "      <td>2.525094</td>\n",
       "      <td>25.286887</td>\n",
       "    </tr>\n",
       "    <tr>\n",
       "      <th>min</th>\n",
       "      <td>1.100000</td>\n",
       "      <td>17.000000</td>\n",
       "    </tr>\n",
       "    <tr>\n",
       "      <th>25%</th>\n",
       "      <td>2.700000</td>\n",
       "      <td>30.000000</td>\n",
       "    </tr>\n",
       "    <tr>\n",
       "      <th>50%</th>\n",
       "      <td>4.800000</td>\n",
       "      <td>47.000000</td>\n",
       "    </tr>\n",
       "    <tr>\n",
       "      <th>75%</th>\n",
       "      <td>7.400000</td>\n",
       "      <td>75.000000</td>\n",
       "    </tr>\n",
       "    <tr>\n",
       "      <th>max</th>\n",
       "      <td>9.200000</td>\n",
       "      <td>95.000000</td>\n",
       "    </tr>\n",
       "  </tbody>\n",
       "</table>\n",
       "</div>"
      ],
      "text/plain": [
       "           Hours     Scores\n",
       "count  25.000000  25.000000\n",
       "mean    5.012000  51.480000\n",
       "std     2.525094  25.286887\n",
       "min     1.100000  17.000000\n",
       "25%     2.700000  30.000000\n",
       "50%     4.800000  47.000000\n",
       "75%     7.400000  75.000000\n",
       "max     9.200000  95.000000"
      ]
     },
     "execution_count": 6,
     "metadata": {},
     "output_type": "execute_result"
    }
   ],
   "source": [
    "# 3) Data cleaning\n",
    "    # 3) Check out layers by using 'IQR' method\n",
    "data.describe()"
   ]
  },
  {
   "cell_type": "code",
   "execution_count": 7,
   "id": "922ffb06",
   "metadata": {},
   "outputs": [
    {
     "data": {
      "text/plain": [
       "(14.450000000000001, -4.3500000000000005)"
      ]
     },
     "execution_count": 7,
     "metadata": {},
     "output_type": "execute_result"
    }
   ],
   "source": [
    "IQR = data['Hours'].quantile(0.75) - data['Hours'].quantile(0.25)\n",
    "upper_threshold = data['Hours'].quantile(0.75) + (1.5*IQR)  # > q3 + 1.5iqr\n",
    "lower_threshold = data['Hours'].quantile(0.25) - (1.5*IQR)  # < q1 - 1.5iqr\n",
    "\n",
    "data['Hours'] = data['Hours'].clip(upper_threshold, lower_threshold) # eliminate out layers\n",
    "\n",
    "upper_threshold, lower_threshold"
   ]
  },
  {
   "cell_type": "code",
   "execution_count": 8,
   "id": "8eb19e5c",
   "metadata": {},
   "outputs": [
    {
     "data": {
      "text/plain": [
       "(25, 2)"
      ]
     },
     "execution_count": 8,
     "metadata": {},
     "output_type": "execute_result"
    }
   ],
   "source": [
    "# 3) Data cleaning\n",
    "    # 4) Check structure or unstructure data\n",
    "data.shape"
   ]
  },
  {
   "cell_type": "code",
   "execution_count": 9,
   "id": "f2d73582",
   "metadata": {},
   "outputs": [
    {
     "data": {
      "text/plain": [
       "Hours     float64\n",
       "Scores      int64\n",
       "dtype: object"
      ]
     },
     "execution_count": 9,
     "metadata": {},
     "output_type": "execute_result"
    }
   ],
   "source": [
    "# 3) Data cleaning\n",
    "    # 5) Check data type in a correct format\n",
    "data.dtypes"
   ]
  },
  {
   "cell_type": "code",
   "execution_count": 10,
   "id": "52dcea2e",
   "metadata": {},
   "outputs": [
    {
     "data": {
      "image/png": "[encoded data removed]",
      "text/plain": [
       "<Figure size 640x480 with 1 Axes>"
      ]
     },
     "metadata": {},
     "output_type": "display_data"
    }
   ],
   "source": [
    "# 4) EDA (Exploratory Data Analysis)\n",
    "    # 1) Plot the data and check the relations\n",
    "data.plot(x='Hours', y='Scores', style='o')\n",
    "plt.title('Hours vs Percentage')\n",
    "plt.xlabel('Hours Studied')\n",
    "plt.ylabel('Percentage Score')\n",
    "plt.show()\n",
    "# Data have relations"
   ]
  },
  {
   "cell_type": "code",
   "execution_count": 11,
   "id": "882363ec",
   "metadata": {},
   "outputs": [
    {
     "data": {
      "text/html": [
       "<div>\n",
       "<style scoped>\n",
       "    .dataframe tbody tr th:only-of-type {\n",
       "        vertical-align: middle;\n",
       "    }\n",
       "\n",
       "    .dataframe tbody tr th {\n",
       "        vertical-align: top;\n",
       "    }\n",
       "\n",
       "    .dataframe thead th {\n",
       "        text-align: right;\n",
       "    }\n",
       "</style>\n",
       "<table border=\"1\" class=\"dataframe\">\n",
       "  <thead>\n",
       "    <tr style=\"text-align: right;\">\n",
       "      <th></th>\n",
       "      <th>Hours</th>\n",
       "      <th>Scores</th>\n",
       "    </tr>\n",
       "  </thead>\n",
       "  <tbody>\n",
       "    <tr>\n",
       "      <th>Hours</th>\n",
       "      <td>1.000000</td>\n",
       "      <td>0.976191</td>\n",
       "    </tr>\n",
       "    <tr>\n",
       "      <th>Scores</th>\n",
       "      <td>0.976191</td>\n",
       "      <td>1.000000</td>\n",
       "    </tr>\n",
       "  </tbody>\n",
       "</table>\n",
       "</div>"
      ],
      "text/plain": [
       "           Hours    Scores\n",
       "Hours   1.000000  0.976191\n",
       "Scores  0.976191  1.000000"
      ]
     },
     "execution_count": 11,
     "metadata": {},
     "output_type": "execute_result"
    }
   ],
   "source": [
    "# 4) EDA (Exploratory Data Analysis)\n",
    "    # 2) Correlation(Gradient descent) (The value of corr is above -0.2 or above +0.2)\n",
    "data.corr() #correlaton\n",
    "# Data have linear relationship between hours and score"
   ]
  },
  {
   "cell_type": "code",
   "execution_count": 12,
   "id": "dea40e58",
   "metadata": {},
   "outputs": [],
   "source": [
    "# 5) Encode the data(Convert categorical data to numerical data) \n",
    "# It doesn't have categorical data so it is not necessary and skip the step"
   ]
  },
  {
   "cell_type": "code",
   "execution_count": 13,
   "id": "783dea09",
   "metadata": {},
   "outputs": [
    {
     "data": {
      "text/plain": [
       "((18, 1), (7, 1), (18,), (7,))"
      ]
     },
     "execution_count": 13,
     "metadata": {},
     "output_type": "execute_result"
    }
   ],
   "source": [
    "# Data Pre processing\n",
    "# 6) Split the data\n",
    "x = data.loc[ : , ['Hours']] # Futures (X - axis)(2D Matrix)\n",
    "y = data.loc[ : , 'Scores']  # Targe  (Y - axis)(1D Array)\n",
    "\n",
    "from sklearn.model_selection import train_test_split\n",
    "\n",
    "x_train, x_test, y_train, y_test = train_test_split(x, y, test_size=0.25, random_state=12)\n",
    "x_train.shape, x_test.shape, y_train.shape, y_test.shape"
   ]
  },
  {
   "cell_type": "code",
   "execution_count": 14,
   "id": "39edb7ed",
   "metadata": {},
   "outputs": [],
   "source": [
    "# Data Pre processing\n",
    "# 7) Scaling the data (Scaling only for multi-column with different range data so skip the step)"
   ]
  },
  {
   "cell_type": "code",
   "execution_count": 15,
   "id": "376e2614",
   "metadata": {},
   "outputs": [
    {
     "name": "stdout",
     "output_type": "stream",
     "text": [
      "7\n"
     ]
    },
    {
     "name": "stderr",
     "output_type": "stream",
     "text": [
      "C:\\Users\\AVA Computers\\anaconda3\\lib\\site-packages\\sklearn\\base.py:420: UserWarning: X does not have valid feature names, but LinearRegression was fitted with feature names\n",
      "  warnings.warn(\n"
     ]
    },
    {
     "data": {
      "text/plain": [
       "array([70.99063666])"
      ]
     },
     "execution_count": 15,
     "metadata": {},
     "output_type": "execute_result"
    }
   ],
   "source": [
    "# 8) Apply Machine learning algorithm\n",
    "    # 1) Import model\n",
    "from sklearn.linear_model import LinearRegression \n",
    "    \n",
    "    # 2) Initialize\n",
    "regression = LinearRegression() # y = m*x + c\n",
    "    \n",
    "    # 3) Fit (learning process)\n",
    "regression.fit(x_train,y_train)\n",
    "\n",
    "    # 4) Predict\n",
    "X = int(input())\n",
    "regression.predict([[X]]) # Insert Futures ('x-value')\n"
   ]
  },
  {
   "cell_type": "code",
   "execution_count": 16,
   "id": "0023754a",
   "metadata": {},
   "outputs": [
    {
     "name": "stdout",
     "output_type": "stream",
     "text": [
      "3.3242582207179296\n",
      "[9.66662549]\n"
     ]
    }
   ],
   "source": [
    "print(regression.intercept_) # c - intercept\n",
    "print(regression.coef_) # m - slope"
   ]
  },
  {
   "cell_type": "code",
   "execution_count": 17,
   "id": "13332cb9",
   "metadata": {},
   "outputs": [
    {
     "name": "stdout",
     "output_type": "stream",
     "text": [
      "70.99063665071793\n"
     ]
    }
   ],
   "source": [
    "# Check with formula\n",
    "y = 9.66662549*X + 3.3242582207179296\n",
    "print(y)"
   ]
  },
  {
   "cell_type": "code",
   "execution_count": 18,
   "id": "70f0caef",
   "metadata": {},
   "outputs": [
    {
     "name": "stdout",
     "output_type": "stream",
     "text": [
      "    Actual value  Predicted value\n",
      "19            69        74.857287\n",
      "7             60        56.490698\n",
      "18            67        62.290674\n",
      "1             47        52.624048\n",
      "15            95        89.357225\n",
      "8             81        83.557250\n",
      "4             30        37.157447\n",
      "0.930765005790591\n"
     ]
    }
   ],
   "source": [
    "# 9)Evaluation matric (Check whether the model is correct or not)\n",
    "        # The evaluation metric for regression  is r^2 between minus infinite to 1\n",
    "        # A higher the R^2 is a better model\n",
    "        \n",
    "from sklearn import metrics\n",
    "\n",
    "y_predict = regression.predict(x_test)\n",
    "\n",
    "df = pd.DataFrame({'Actual value':y_test, 'Predicted value':y_predict})\n",
    "\n",
    "print(df)\n",
    "print(metrics.r2_score(y_test,y_predict))"
   ]
  },
  {
   "cell_type": "markdown",
   "id": "e6339fb1",
   "metadata": {},
   "source": [
    "## Multiple Linear Regression\n",
    "* General equation\n",
    "* y=m1*(x1) +m2*(x2) + m3*(x3) + c \n",
    "* y - y-axis \n",
    "* m - gradient or slope \n",
    "* x - x-axis \n",
    "* c - intercept"
   ]
  },
  {
   "cell_type": "code",
   "execution_count": 19,
   "id": "2066f8e7",
   "metadata": {},
   "outputs": [],
   "source": [
    "# 1) Import the required library\n",
    "\n",
    "# File read\n",
    "import pandas as pd\n",
    "import numpy as np\n",
    "\n",
    "# EDA\n",
    "import matplotlib.pyplot as plt\n",
    "\n",
    "# Data spliting\n",
    "from sklearn.model_selection import train_test_split\n",
    "\n",
    "# Data Scalling\n",
    "from sklearn.preprocessing import StandardScaler\n",
    "\n",
    "# Apply Machine learning algorithm\n",
    "from sklearn.linear_model import LinearRegression \n",
    "\n",
    "# Evaluation matric\n",
    "from sklearn import metrics"
   ]
  },
  {
   "cell_type": "code",
   "execution_count": 20,
   "id": "9b5ce65c",
   "metadata": {},
   "outputs": [],
   "source": [
    "# 2) Import data\n",
    "petrol_data = pd.read_csv('petrol_consumption.csv')"
   ]
  },
  {
   "cell_type": "code",
   "execution_count": 21,
   "id": "fc7f8000",
   "metadata": {},
   "outputs": [
    {
     "data": {
      "text/html": [
       "<div>\n",
       "<style scoped>\n",
       "    .dataframe tbody tr th:only-of-type {\n",
       "        vertical-align: middle;\n",
       "    }\n",
       "\n",
       "    .dataframe tbody tr th {\n",
       "        vertical-align: top;\n",
       "    }\n",
       "\n",
       "    .dataframe thead th {\n",
       "        text-align: right;\n",
       "    }\n",
       "</style>\n",
       "<table border=\"1\" class=\"dataframe\">\n",
       "  <thead>\n",
       "    <tr style=\"text-align: right;\">\n",
       "      <th></th>\n",
       "      <th>Petrol_tax</th>\n",
       "      <th>Average_income</th>\n",
       "      <th>Paved_Highways</th>\n",
       "      <th>Population_Driver_licence(%)</th>\n",
       "      <th>Petrol_Consumption</th>\n",
       "    </tr>\n",
       "  </thead>\n",
       "  <tbody>\n",
       "    <tr>\n",
       "      <th>0</th>\n",
       "      <td>9.0</td>\n",
       "      <td>3571</td>\n",
       "      <td>1976</td>\n",
       "      <td>0.525</td>\n",
       "      <td>541</td>\n",
       "    </tr>\n",
       "    <tr>\n",
       "      <th>1</th>\n",
       "      <td>9.0</td>\n",
       "      <td>4092</td>\n",
       "      <td>1250</td>\n",
       "      <td>0.572</td>\n",
       "      <td>524</td>\n",
       "    </tr>\n",
       "    <tr>\n",
       "      <th>2</th>\n",
       "      <td>9.0</td>\n",
       "      <td>3865</td>\n",
       "      <td>1586</td>\n",
       "      <td>0.580</td>\n",
       "      <td>561</td>\n",
       "    </tr>\n",
       "    <tr>\n",
       "      <th>3</th>\n",
       "      <td>7.5</td>\n",
       "      <td>4870</td>\n",
       "      <td>2351</td>\n",
       "      <td>0.529</td>\n",
       "      <td>414</td>\n",
       "    </tr>\n",
       "    <tr>\n",
       "      <th>4</th>\n",
       "      <td>8.0</td>\n",
       "      <td>4399</td>\n",
       "      <td>431</td>\n",
       "      <td>0.544</td>\n",
       "      <td>410</td>\n",
       "    </tr>\n",
       "  </tbody>\n",
       "</table>\n",
       "</div>"
      ],
      "text/plain": [
       "   Petrol_tax  Average_income  Paved_Highways  Population_Driver_licence(%)  \\\n",
       "0         9.0            3571            1976                         0.525   \n",
       "1         9.0            4092            1250                         0.572   \n",
       "2         9.0            3865            1586                         0.580   \n",
       "3         7.5            4870            2351                         0.529   \n",
       "4         8.0            4399             431                         0.544   \n",
       "\n",
       "   Petrol_Consumption  \n",
       "0                 541  \n",
       "1                 524  \n",
       "2                 561  \n",
       "3                 414  \n",
       "4                 410  "
      ]
     },
     "execution_count": 21,
     "metadata": {},
     "output_type": "execute_result"
    }
   ],
   "source": [
    "petrol_data.head()"
   ]
  },
  {
   "cell_type": "code",
   "execution_count": 22,
   "id": "58f220a4",
   "metadata": {},
   "outputs": [
    {
     "data": {
      "text/plain": [
       "Petrol_tax                      0\n",
       "Average_income                  0\n",
       "Paved_Highways                  0\n",
       "Population_Driver_licence(%)    0\n",
       "Petrol_Consumption              0\n",
       "dtype: int64"
      ]
     },
     "execution_count": 22,
     "metadata": {},
     "output_type": "execute_result"
    }
   ],
   "source": [
    "# 3) Data cleaning\n",
    "    # 1) Check missing values\n",
    "petrol_data.isnull().sum()"
   ]
  },
  {
   "cell_type": "code",
   "execution_count": 23,
   "id": "a9e6df89",
   "metadata": {},
   "outputs": [
    {
     "data": {
      "text/plain": [
       "0"
      ]
     },
     "execution_count": 23,
     "metadata": {},
     "output_type": "execute_result"
    }
   ],
   "source": [
    "# 3) Data cleaning\n",
    "    # 2) Check Duplicate\n",
    "petrol_data.duplicated().sum()"
   ]
  },
  {
   "cell_type": "code",
   "execution_count": 24,
   "id": "13c61fd4",
   "metadata": {},
   "outputs": [
    {
     "data": {
      "text/html": [
       "<div>\n",
       "<style scoped>\n",
       "    .dataframe tbody tr th:only-of-type {\n",
       "        vertical-align: middle;\n",
       "    }\n",
       "\n",
       "    .dataframe tbody tr th {\n",
       "        vertical-align: top;\n",
       "    }\n",
       "\n",
       "    .dataframe thead th {\n",
       "        text-align: right;\n",
       "    }\n",
       "</style>\n",
       "<table border=\"1\" class=\"dataframe\">\n",
       "  <thead>\n",
       "    <tr style=\"text-align: right;\">\n",
       "      <th></th>\n",
       "      <th>Petrol_tax</th>\n",
       "      <th>Average_income</th>\n",
       "      <th>Paved_Highways</th>\n",
       "      <th>Population_Driver_licence(%)</th>\n",
       "      <th>Petrol_Consumption</th>\n",
       "    </tr>\n",
       "  </thead>\n",
       "  <tbody>\n",
       "    <tr>\n",
       "      <th>count</th>\n",
       "      <td>48.000000</td>\n",
       "      <td>48.000000</td>\n",
       "      <td>48.000000</td>\n",
       "      <td>48.000000</td>\n",
       "      <td>48.000000</td>\n",
       "    </tr>\n",
       "    <tr>\n",
       "      <th>mean</th>\n",
       "      <td>7.668333</td>\n",
       "      <td>4241.833333</td>\n",
       "      <td>5565.416667</td>\n",
       "      <td>0.570333</td>\n",
       "      <td>576.770833</td>\n",
       "    </tr>\n",
       "    <tr>\n",
       "      <th>std</th>\n",
       "      <td>0.950770</td>\n",
       "      <td>573.623768</td>\n",
       "      <td>3491.507166</td>\n",
       "      <td>0.055470</td>\n",
       "      <td>111.885816</td>\n",
       "    </tr>\n",
       "    <tr>\n",
       "      <th>min</th>\n",
       "      <td>5.000000</td>\n",
       "      <td>3063.000000</td>\n",
       "      <td>431.000000</td>\n",
       "      <td>0.451000</td>\n",
       "      <td>344.000000</td>\n",
       "    </tr>\n",
       "    <tr>\n",
       "      <th>25%</th>\n",
       "      <td>7.000000</td>\n",
       "      <td>3739.000000</td>\n",
       "      <td>3110.250000</td>\n",
       "      <td>0.529750</td>\n",
       "      <td>509.500000</td>\n",
       "    </tr>\n",
       "    <tr>\n",
       "      <th>50%</th>\n",
       "      <td>7.500000</td>\n",
       "      <td>4298.000000</td>\n",
       "      <td>4735.500000</td>\n",
       "      <td>0.564500</td>\n",
       "      <td>568.500000</td>\n",
       "    </tr>\n",
       "    <tr>\n",
       "      <th>75%</th>\n",
       "      <td>8.125000</td>\n",
       "      <td>4578.750000</td>\n",
       "      <td>7156.000000</td>\n",
       "      <td>0.595250</td>\n",
       "      <td>632.750000</td>\n",
       "    </tr>\n",
       "    <tr>\n",
       "      <th>max</th>\n",
       "      <td>10.000000</td>\n",
       "      <td>5342.000000</td>\n",
       "      <td>17782.000000</td>\n",
       "      <td>0.724000</td>\n",
       "      <td>968.000000</td>\n",
       "    </tr>\n",
       "  </tbody>\n",
       "</table>\n",
       "</div>"
      ],
      "text/plain": [
       "       Petrol_tax  Average_income  Paved_Highways  \\\n",
       "count   48.000000       48.000000       48.000000   \n",
       "mean     7.668333     4241.833333     5565.416667   \n",
       "std      0.950770      573.623768     3491.507166   \n",
       "min      5.000000     3063.000000      431.000000   \n",
       "25%      7.000000     3739.000000     3110.250000   \n",
       "50%      7.500000     4298.000000     4735.500000   \n",
       "75%      8.125000     4578.750000     7156.000000   \n",
       "max     10.000000     5342.000000    17782.000000   \n",
       "\n",
       "       Population_Driver_licence(%)  Petrol_Consumption  \n",
       "count                     48.000000           48.000000  \n",
       "mean                       0.570333          576.770833  \n",
       "std                        0.055470          111.885816  \n",
       "min                        0.451000          344.000000  \n",
       "25%                        0.529750          509.500000  \n",
       "50%                        0.564500          568.500000  \n",
       "75%                        0.595250          632.750000  \n",
       "max                        0.724000          968.000000  "
      ]
     },
     "execution_count": 24,
     "metadata": {},
     "output_type": "execute_result"
    }
   ],
   "source": [
    "# 3) Data cleaning\n",
    "    # 3) Check out layers by using 'IQR' method\n",
    "petrol_data.describe()"
   ]
  },
  {
   "cell_type": "code",
   "execution_count": 25,
   "id": "c69999a7",
   "metadata": {},
   "outputs": [
    {
     "data": {
      "text/plain": [
       "(9.8125, 5.3125)"
      ]
     },
     "execution_count": 25,
     "metadata": {},
     "output_type": "execute_result"
    }
   ],
   "source": [
    "# 1 Check outlayer in Petrol_tax column and eliminate outliers\n",
    "IQR = petrol_data['Petrol_tax'].quantile(0.75) - petrol_data['Petrol_tax'].quantile(0.25)\n",
    "upper_threshold = petrol_data['Petrol_tax'].quantile(0.75) + (1.5*IQR)  # > q3 + 1.5iqr\n",
    "lower_threshold = petrol_data['Petrol_tax'].quantile(0.25) - (1.5*IQR)  # < q1 - 1.5iqr\n",
    "\n",
    "petrol_data['Petrol_tax'] = petrol_data['Petrol_tax'].clip(upper_threshold, lower_threshold) # eliminate out layers\n",
    "\n",
    "upper_threshold, lower_threshold"
   ]
  },
  {
   "cell_type": "code",
   "execution_count": 26,
   "id": "09dbe138",
   "metadata": {},
   "outputs": [
    {
     "data": {
      "text/plain": [
       "(5838.375, 2479.375)"
      ]
     },
     "execution_count": 26,
     "metadata": {},
     "output_type": "execute_result"
    }
   ],
   "source": [
    "# 2 Check outlayer in Average_income column and eliminate outliers\n",
    "IQR = petrol_data['Average_income'].quantile(0.75) - petrol_data['Average_income'].quantile(0.25)\n",
    "upper_threshold = petrol_data['Average_income'].quantile(0.75) + (1.5*IQR)  # > q3 + 1.5iqr\n",
    "lower_threshold = petrol_data['Average_income'].quantile(0.25) - (1.5*IQR)  # < q1 - 1.5iqr\n",
    "\n",
    "petrol_data['Average_income'] = petrol_data['Average_income'].clip(upper_threshold, lower_threshold) # eliminate out layers\n",
    "\n",
    "upper_threshold, lower_threshold"
   ]
  },
  {
   "cell_type": "code",
   "execution_count": 27,
   "id": "f5a296e6",
   "metadata": {},
   "outputs": [
    {
     "data": {
      "text/plain": [
       "(13224.625, -2958.375)"
      ]
     },
     "execution_count": 27,
     "metadata": {},
     "output_type": "execute_result"
    }
   ],
   "source": [
    "# 3 Check outlayer in Paved_Highways column and eliminate outliers\n",
    "IQR = petrol_data['Paved_Highways'].quantile(0.75) - petrol_data['Paved_Highways'].quantile(0.25)\n",
    "upper_threshold = petrol_data['Paved_Highways'].quantile(0.75) + (1.5*IQR)  # > q3 + 1.5iqr\n",
    "lower_threshold = petrol_data['Paved_Highways'].quantile(0.25) - (1.5*IQR)  # < q1 - 1.5iqr\n",
    "\n",
    "petrol_data['Paved_Highways'] = petrol_data['Paved_Highways'].clip(upper_threshold, lower_threshold) # eliminate out layers\n",
    "\n",
    "upper_threshold, lower_threshold"
   ]
  },
  {
   "cell_type": "code",
   "execution_count": 28,
   "id": "d872775e",
   "metadata": {},
   "outputs": [
    {
     "data": {
      "text/plain": [
       "(0.6934999999999998, 0.4315000000000002)"
      ]
     },
     "execution_count": 28,
     "metadata": {},
     "output_type": "execute_result"
    }
   ],
   "source": [
    "# 4 Check outlayer in Population_Driver_licence(%) column and eliminate outliers\n",
    "IQR = petrol_data['Population_Driver_licence(%)'].quantile(0.75) - petrol_data['Population_Driver_licence(%)'].quantile(0.25)\n",
    "upper_threshold = petrol_data['Population_Driver_licence(%)'].quantile(0.75) + (1.5*IQR)  # > q3 + 1.5iqr\n",
    "lower_threshold = petrol_data['Population_Driver_licence(%)'].quantile(0.25) - (1.5*IQR)  # < q1 - 1.5iqr\n",
    "\n",
    "petrol_data['Population_Driver_licence(%)'] = petrol_data['Population_Driver_licence(%)'].clip(upper_threshold, lower_threshold) # eliminate out layers\n",
    "\n",
    "upper_threshold, lower_threshold"
   ]
  },
  {
   "cell_type": "code",
   "execution_count": 29,
   "id": "612bdd09",
   "metadata": {},
   "outputs": [
    {
     "data": {
      "text/html": [
       "<div>\n",
       "<style scoped>\n",
       "    .dataframe tbody tr th:only-of-type {\n",
       "        vertical-align: middle;\n",
       "    }\n",
       "\n",
       "    .dataframe tbody tr th {\n",
       "        vertical-align: top;\n",
       "    }\n",
       "\n",
       "    .dataframe thead th {\n",
       "        text-align: right;\n",
       "    }\n",
       "</style>\n",
       "<table border=\"1\" class=\"dataframe\">\n",
       "  <thead>\n",
       "    <tr style=\"text-align: right;\">\n",
       "      <th></th>\n",
       "      <th>Petrol_tax</th>\n",
       "      <th>Average_income</th>\n",
       "      <th>Paved_Highways</th>\n",
       "      <th>Population_Driver_licence(%)</th>\n",
       "      <th>Petrol_Consumption</th>\n",
       "    </tr>\n",
       "  </thead>\n",
       "  <tbody>\n",
       "    <tr>\n",
       "      <th>count</th>\n",
       "      <td>48.000000</td>\n",
       "      <td>48.000000</td>\n",
       "      <td>48.000000</td>\n",
       "      <td>48.000000</td>\n",
       "      <td>48.000000</td>\n",
       "    </tr>\n",
       "    <tr>\n",
       "      <th>mean</th>\n",
       "      <td>7.670937</td>\n",
       "      <td>4241.833333</td>\n",
       "      <td>5450.442708</td>\n",
       "      <td>0.569698</td>\n",
       "      <td>576.770833</td>\n",
       "    </tr>\n",
       "    <tr>\n",
       "      <th>std</th>\n",
       "      <td>0.923415</td>\n",
       "      <td>573.623768</td>\n",
       "      <td>3149.104278</td>\n",
       "      <td>0.053823</td>\n",
       "      <td>111.885816</td>\n",
       "    </tr>\n",
       "    <tr>\n",
       "      <th>min</th>\n",
       "      <td>5.312500</td>\n",
       "      <td>3063.000000</td>\n",
       "      <td>431.000000</td>\n",
       "      <td>0.451000</td>\n",
       "      <td>344.000000</td>\n",
       "    </tr>\n",
       "    <tr>\n",
       "      <th>25%</th>\n",
       "      <td>7.000000</td>\n",
       "      <td>3739.000000</td>\n",
       "      <td>3110.250000</td>\n",
       "      <td>0.529750</td>\n",
       "      <td>509.500000</td>\n",
       "    </tr>\n",
       "    <tr>\n",
       "      <th>50%</th>\n",
       "      <td>7.500000</td>\n",
       "      <td>4298.000000</td>\n",
       "      <td>4735.500000</td>\n",
       "      <td>0.564500</td>\n",
       "      <td>568.500000</td>\n",
       "    </tr>\n",
       "    <tr>\n",
       "      <th>75%</th>\n",
       "      <td>8.125000</td>\n",
       "      <td>4578.750000</td>\n",
       "      <td>7156.000000</td>\n",
       "      <td>0.595250</td>\n",
       "      <td>632.750000</td>\n",
       "    </tr>\n",
       "    <tr>\n",
       "      <th>max</th>\n",
       "      <td>9.812500</td>\n",
       "      <td>5342.000000</td>\n",
       "      <td>13224.625000</td>\n",
       "      <td>0.693500</td>\n",
       "      <td>968.000000</td>\n",
       "    </tr>\n",
       "  </tbody>\n",
       "</table>\n",
       "</div>"
      ],
      "text/plain": [
       "       Petrol_tax  Average_income  Paved_Highways  \\\n",
       "count   48.000000       48.000000       48.000000   \n",
       "mean     7.670937     4241.833333     5450.442708   \n",
       "std      0.923415      573.623768     3149.104278   \n",
       "min      5.312500     3063.000000      431.000000   \n",
       "25%      7.000000     3739.000000     3110.250000   \n",
       "50%      7.500000     4298.000000     4735.500000   \n",
       "75%      8.125000     4578.750000     7156.000000   \n",
       "max      9.812500     5342.000000    13224.625000   \n",
       "\n",
       "       Population_Driver_licence(%)  Petrol_Consumption  \n",
       "count                     48.000000           48.000000  \n",
       "mean                       0.569698          576.770833  \n",
       "std                        0.053823          111.885816  \n",
       "min                        0.451000          344.000000  \n",
       "25%                        0.529750          509.500000  \n",
       "50%                        0.564500          568.500000  \n",
       "75%                        0.595250          632.750000  \n",
       "max                        0.693500          968.000000  "
      ]
     },
     "execution_count": 29,
     "metadata": {},
     "output_type": "execute_result"
    }
   ],
   "source": [
    "petrol_data.describe()"
   ]
  },
  {
   "cell_type": "code",
   "execution_count": 30,
   "id": "8b9640d4",
   "metadata": {},
   "outputs": [
    {
     "data": {
      "text/plain": [
       "(48, 5)"
      ]
     },
     "execution_count": 30,
     "metadata": {},
     "output_type": "execute_result"
    }
   ],
   "source": [
    "# 3) Data cleaning\n",
    "    # 4) Check structure or unstructure data\n",
    "petrol_data.shape"
   ]
  },
  {
   "cell_type": "code",
   "execution_count": 31,
   "id": "27f78324",
   "metadata": {},
   "outputs": [
    {
     "data": {
      "text/plain": [
       "Petrol_tax                      float64\n",
       "Average_income                    int64\n",
       "Paved_Highways                  float64\n",
       "Population_Driver_licence(%)    float64\n",
       "Petrol_Consumption                int64\n",
       "dtype: object"
      ]
     },
     "execution_count": 31,
     "metadata": {},
     "output_type": "execute_result"
    }
   ],
   "source": [
    "# 3) Data cleaning\n",
    "    # 5) Check data type in a correct format\n",
    "petrol_data.dtypes"
   ]
  },
  {
   "cell_type": "code",
   "execution_count": 32,
   "id": "fc356593",
   "metadata": {},
   "outputs": [
    {
     "data": {
      "image/png": "[encoded data removed]",
      "text/plain": [
       "<Figure size 640x480 with 1 Axes>"
      ]
     },
     "metadata": {},
     "output_type": "display_data"
    }
   ],
   "source": [
    "#  Petrol_tax vs Petrol_Consumption\n",
    "# 4) EDA (Exploratory Data Analysis)\n",
    "    # 1) Plot the data and check the relations\n",
    "petrol_data.plot(x='Petrol_tax', y='Petrol_Consumption', style='o')\n",
    "plt.title('Petrol_tax vs Petrol_Consumption')\n",
    "plt.xlabel('Petrol_tax')\n",
    "plt.ylabel('Petrol_Consumption')\n",
    "plt.show()\n",
    "# Data have relations"
   ]
  },
  {
   "cell_type": "code",
   "execution_count": 33,
   "id": "15877d0d",
   "metadata": {},
   "outputs": [
    {
     "data": {
      "text/html": [
       "<div>\n",
       "<style scoped>\n",
       "    .dataframe tbody tr th:only-of-type {\n",
       "        vertical-align: middle;\n",
       "    }\n",
       "\n",
       "    .dataframe tbody tr th {\n",
       "        vertical-align: top;\n",
       "    }\n",
       "\n",
       "    .dataframe thead th {\n",
       "        text-align: right;\n",
       "    }\n",
       "</style>\n",
       "<table border=\"1\" class=\"dataframe\">\n",
       "  <thead>\n",
       "    <tr style=\"text-align: right;\">\n",
       "      <th></th>\n",
       "      <th>Petrol_tax</th>\n",
       "      <th>Petrol_Consumption</th>\n",
       "    </tr>\n",
       "  </thead>\n",
       "  <tbody>\n",
       "    <tr>\n",
       "      <th>Petrol_tax</th>\n",
       "      <td>1.000000</td>\n",
       "      <td>-0.455955</td>\n",
       "    </tr>\n",
       "    <tr>\n",
       "      <th>Petrol_Consumption</th>\n",
       "      <td>-0.455955</td>\n",
       "      <td>1.000000</td>\n",
       "    </tr>\n",
       "  </tbody>\n",
       "</table>\n",
       "</div>"
      ],
      "text/plain": [
       "                    Petrol_tax  Petrol_Consumption\n",
       "Petrol_tax            1.000000           -0.455955\n",
       "Petrol_Consumption   -0.455955            1.000000"
      ]
     },
     "execution_count": 33,
     "metadata": {},
     "output_type": "execute_result"
    }
   ],
   "source": [
    "# 4) EDA (Exploratory Data Analysis)\n",
    "    # 2) Correlation(Gradient descent) (The value of corr is above -0.2 or above +0.2)\n",
    "petrol_data[['Petrol_tax','Petrol_Consumption']].corr() #correlaton\n",
    "# Data have linear relationship between Petrol_tax and Petrol_Consumption"
   ]
  },
  {
   "cell_type": "code",
   "execution_count": 34,
   "id": "3a56c746",
   "metadata": {},
   "outputs": [
    {
     "data": {
      "image/png": "[encoded data removed]",
      "text/plain": [
       "<Figure size 640x480 with 1 Axes>"
      ]
     },
     "metadata": {},
     "output_type": "display_data"
    }
   ],
   "source": [
    "# Average_income vs Petrol_Consumption\n",
    "# 4) EDA (Exploratory Data Analysis)\n",
    "    # 1) Plot the data and check the relations\n",
    "petrol_data.plot(x='Average_income', y='Petrol_Consumption', style='o')\n",
    "plt.title('Average_income vs Petrol_Consumption')\n",
    "plt.xlabel('Average_income')\n",
    "plt.ylabel('Petrol_Consumption')\n",
    "plt.show()\n",
    "# Data have relations"
   ]
  },
  {
   "cell_type": "code",
   "execution_count": 35,
   "id": "3510396d",
   "metadata": {},
   "outputs": [
    {
     "data": {
      "text/html": [
       "<div>\n",
       "<style scoped>\n",
       "    .dataframe tbody tr th:only-of-type {\n",
       "        vertical-align: middle;\n",
       "    }\n",
       "\n",
       "    .dataframe tbody tr th {\n",
       "        vertical-align: top;\n",
       "    }\n",
       "\n",
       "    .dataframe thead th {\n",
       "        text-align: right;\n",
       "    }\n",
       "</style>\n",
       "<table border=\"1\" class=\"dataframe\">\n",
       "  <thead>\n",
       "    <tr style=\"text-align: right;\">\n",
       "      <th></th>\n",
       "      <th>Average_income</th>\n",
       "      <th>Petrol_Consumption</th>\n",
       "    </tr>\n",
       "  </thead>\n",
       "  <tbody>\n",
       "    <tr>\n",
       "      <th>Average_income</th>\n",
       "      <td>1.000000</td>\n",
       "      <td>-0.244862</td>\n",
       "    </tr>\n",
       "    <tr>\n",
       "      <th>Petrol_Consumption</th>\n",
       "      <td>-0.244862</td>\n",
       "      <td>1.000000</td>\n",
       "    </tr>\n",
       "  </tbody>\n",
       "</table>\n",
       "</div>"
      ],
      "text/plain": [
       "                    Average_income  Petrol_Consumption\n",
       "Average_income            1.000000           -0.244862\n",
       "Petrol_Consumption       -0.244862            1.000000"
      ]
     },
     "execution_count": 35,
     "metadata": {},
     "output_type": "execute_result"
    }
   ],
   "source": [
    "# 4) EDA (Exploratory Data Analysis)\n",
    "    # 2) Correlation(Gradient descent) (The value of corr is above -0.2 or above +0.2)\n",
    "petrol_data[['Average_income','Petrol_Consumption']].corr() #correlaton\n",
    "# Data have linear relationship between Average_income and Petrol_Consumption"
   ]
  },
  {
   "cell_type": "code",
   "execution_count": 36,
   "id": "fd472ed5",
   "metadata": {},
   "outputs": [
    {
     "data": {
      "image/png": "[encoded data removed]",
      "text/plain": [
       "<Figure size 640x480 with 1 Axes>"
      ]
     },
     "metadata": {},
     "output_type": "display_data"
    }
   ],
   "source": [
    "# Paved_Highways vs Petrol_Consumption\n",
    "# 4) EDA (Exploratory Data Analysis)\n",
    "    # 1) Plot the data and check the relations\n",
    "petrol_data.plot(x='Paved_Highways', y='Petrol_Consumption', style='o')\n",
    "plt.title('Paved_Highways vs Petrol_Consumption')\n",
    "plt.xlabel('Paved_Highways')\n",
    "plt.ylabel('Petrol_Consumption')\n",
    "plt.show()\n",
    "# Data don'thave relations"
   ]
  },
  {
   "cell_type": "code",
   "execution_count": 37,
   "id": "ca81d8e6",
   "metadata": {},
   "outputs": [
    {
     "data": {
      "text/html": [
       "<div>\n",
       "<style scoped>\n",
       "    .dataframe tbody tr th:only-of-type {\n",
       "        vertical-align: middle;\n",
       "    }\n",
       "\n",
       "    .dataframe tbody tr th {\n",
       "        vertical-align: top;\n",
       "    }\n",
       "\n",
       "    .dataframe thead th {\n",
       "        text-align: right;\n",
       "    }\n",
       "</style>\n",
       "<table border=\"1\" class=\"dataframe\">\n",
       "  <thead>\n",
       "    <tr style=\"text-align: right;\">\n",
       "      <th></th>\n",
       "      <th>Paved_Highways</th>\n",
       "      <th>Petrol_Consumption</th>\n",
       "    </tr>\n",
       "  </thead>\n",
       "  <tbody>\n",
       "    <tr>\n",
       "      <th>Paved_Highways</th>\n",
       "      <td>1.000000</td>\n",
       "      <td>0.009852</td>\n",
       "    </tr>\n",
       "    <tr>\n",
       "      <th>Petrol_Consumption</th>\n",
       "      <td>0.009852</td>\n",
       "      <td>1.000000</td>\n",
       "    </tr>\n",
       "  </tbody>\n",
       "</table>\n",
       "</div>"
      ],
      "text/plain": [
       "                    Paved_Highways  Petrol_Consumption\n",
       "Paved_Highways            1.000000            0.009852\n",
       "Petrol_Consumption        0.009852            1.000000"
      ]
     },
     "execution_count": 37,
     "metadata": {},
     "output_type": "execute_result"
    }
   ],
   "source": [
    "# 4) EDA (Exploratory Data Analysis)\n",
    "    # 2) Correlation(Gradient descent) (The value of corr is above -0.2 or above +0.2)\n",
    "petrol_data[['Paved_Highways','Petrol_Consumption']].corr() #correlaton\n",
    "# Data don't have linear relationship between Paved_Highways and Petrol_Consumption so eliminate the column "
   ]
  },
  {
   "cell_type": "code",
   "execution_count": 38,
   "id": "2e7c4095",
   "metadata": {},
   "outputs": [
    {
     "data": {
      "image/png": "[encoded data removed]",
      "text/plain": [
       "<Figure size 640x480 with 1 Axes>"
      ]
     },
     "metadata": {},
     "output_type": "display_data"
    }
   ],
   "source": [
    "# Population_Driver_licence(%) vs Petrol_Consumption\n",
    "# 4) EDA (Exploratory Data Analysis)\n",
    "    # 1) Plot the data and check the relations\n",
    "petrol_data.plot(x='Population_Driver_licence(%)', y='Petrol_Consumption', style='o')\n",
    "plt.title('Population_Driver_licence(%) vs Petrol_Consumption')\n",
    "plt.xlabel('Population_Driver_licence(%)')\n",
    "plt.ylabel('Petrol_Consumption')\n",
    "plt.show()\n",
    "# Data have relations"
   ]
  },
  {
   "cell_type": "code",
   "execution_count": 39,
   "id": "7edd6a4e",
   "metadata": {},
   "outputs": [
    {
     "data": {
      "text/html": [
       "<div>\n",
       "<style scoped>\n",
       "    .dataframe tbody tr th:only-of-type {\n",
       "        vertical-align: middle;\n",
       "    }\n",
       "\n",
       "    .dataframe tbody tr th {\n",
       "        vertical-align: top;\n",
       "    }\n",
       "\n",
       "    .dataframe thead th {\n",
       "        text-align: right;\n",
       "    }\n",
       "</style>\n",
       "<table border=\"1\" class=\"dataframe\">\n",
       "  <thead>\n",
       "    <tr style=\"text-align: right;\">\n",
       "      <th></th>\n",
       "      <th>Population_Driver_licence(%)</th>\n",
       "      <th>Petrol_Consumption</th>\n",
       "    </tr>\n",
       "  </thead>\n",
       "  <tbody>\n",
       "    <tr>\n",
       "      <th>Population_Driver_licence(%)</th>\n",
       "      <td>1.000000</td>\n",
       "      <td>0.689301</td>\n",
       "    </tr>\n",
       "    <tr>\n",
       "      <th>Petrol_Consumption</th>\n",
       "      <td>0.689301</td>\n",
       "      <td>1.000000</td>\n",
       "    </tr>\n",
       "  </tbody>\n",
       "</table>\n",
       "</div>"
      ],
      "text/plain": [
       "                              Population_Driver_licence(%)  Petrol_Consumption\n",
       "Population_Driver_licence(%)                      1.000000            0.689301\n",
       "Petrol_Consumption                                0.689301            1.000000"
      ]
     },
     "execution_count": 39,
     "metadata": {},
     "output_type": "execute_result"
    }
   ],
   "source": [
    "# 4) EDA (Exploratory Data Analysis)\n",
    "    # 2) Correlation(Gradient descent) (The value of corr is above -0.2 or above +0.2)\n",
    "petrol_data[['Population_Driver_licence(%)','Petrol_Consumption']].corr() #correlaton\n",
    "# Data have linear relationship between Population_Driver_licence(%) and Petrol_Consumption"
   ]
  },
  {
   "cell_type": "code",
   "execution_count": 40,
   "id": "f55483bd",
   "metadata": {},
   "outputs": [],
   "source": [
    "# 5) Encode the data(Convert categorical data to numerical data) \n",
    "# It doesn't have categorical data so it is not necessary and skip the step"
   ]
  },
  {
   "cell_type": "code",
   "execution_count": 41,
   "id": "8b77111e",
   "metadata": {},
   "outputs": [
    {
     "data": {
      "text/plain": [
       "((36, 3), (12, 3), (36,), (12,))"
      ]
     },
     "execution_count": 41,
     "metadata": {},
     "output_type": "execute_result"
    }
   ],
   "source": [
    "# Data Pre processing\n",
    "# 6) Split the data\n",
    "x = petrol_data.loc[ : , ['Petrol_tax', 'Average_income', 'Population_Driver_licence(%)']] # Futures (X - axis)(2D Matrix)\n",
    "y = petrol_data.loc[ : , 'Petrol_Consumption']  # Targe  (Y - axis)(1D Array)\n",
    "\n",
    "from sklearn.model_selection import train_test_split\n",
    "\n",
    "x_train, x_test, y_train, y_test = train_test_split(x, y, test_size=0.25, random_state=12)\n",
    "x_train.shape, x_test.shape, y_train.shape, y_test.shape"
   ]
  },
  {
   "cell_type": "code",
   "execution_count": 42,
   "id": "a156365c",
   "metadata": {},
   "outputs": [],
   "source": [
    "# Data Pre processing\n",
    "# 7) Scalling\n",
    "    # 1) Import model\n",
    "from sklearn.preprocessing import StandardScaler\n",
    "\n",
    "    # 2) Initialize\n",
    "scaler = StandardScaler()\n",
    "    \n",
    "    # 3) Fit (Learning process)\n",
    "scaler.fit(x_train) # finding the values of mean and standard deviation from the test data\n",
    "\n",
    "    # 4) Transform\n",
    "X_train_scaled = scaler.transform(x_train) # fit (mean, sd) and then transform the training data\n",
    "X_test_scaled = scaler.transform(x_test) # transform the test data \n"
   ]
  },
  {
   "cell_type": "code",
   "execution_count": 43,
   "id": "a517fdc0",
   "metadata": {},
   "outputs": [
    {
     "name": "stdout",
     "output_type": "stream",
     "text": [
      "Petrol tax: 8\n",
      "Average income: 3500\n",
      "Population_Driver licence(%): 0.50\n"
     ]
    },
    {
     "name": "stderr",
     "output_type": "stream",
     "text": [
      "C:\\Users\\AVA Computers\\anaconda3\\lib\\site-packages\\sklearn\\base.py:420: UserWarning: X does not have valid feature names, but StandardScaler was fitted with feature names\n",
      "  warnings.warn(\n"
     ]
    },
    {
     "data": {
      "text/plain": [
       "array([529.77806364])"
      ]
     },
     "execution_count": 43,
     "metadata": {},
     "output_type": "execute_result"
    }
   ],
   "source": [
    "# 8) Apply Machine learning algorithm\n",
    "    # 1) Import model\n",
    "from sklearn.linear_model import LinearRegression \n",
    "    \n",
    "    # 2) Initialize\n",
    "regression = LinearRegression() # y=m1*(x1) +m2*(x2) + m3*(x3) + c\n",
    "    \n",
    "    # 3) Fit (learning process)\n",
    "regression.fit(X_train_scaled,y_train)\n",
    "\n",
    "    # 4) Predict\n",
    "X1 = int(input('Petrol tax: '))\n",
    "X2 = int(input('Average income: '))\n",
    "X3 = float(input('Population_Driver licence(%): '))\n",
    "regression.predict(scaler.transform(np.array([[X1, X2, X3]]))) # Insert Futures ('x-value')\n"
   ]
  },
  {
   "cell_type": "code",
   "execution_count": 44,
   "id": "b3fd9a63",
   "metadata": {},
   "outputs": [
    {
     "name": "stdout",
     "output_type": "stream",
     "text": [
      "557.3055555555555\n",
      "[-18.7433046  -40.49614102  60.03217949]\n"
     ]
    }
   ],
   "source": [
    "print(regression.intercept_) # c - intercept\n",
    "print(regression.coef_) # m - slope"
   ]
  },
  {
   "cell_type": "code",
   "execution_count": 45,
   "id": "0771fc49",
   "metadata": {},
   "outputs": [
    {
     "name": "stdout",
     "output_type": "stream",
     "text": [
      "529.7780636329267\n"
     ]
    },
    {
     "name": "stderr",
     "output_type": "stream",
     "text": [
      "C:\\Users\\AVA Computers\\anaconda3\\lib\\site-packages\\sklearn\\base.py:420: UserWarning: X does not have valid feature names, but StandardScaler was fitted with feature names\n",
      "  warnings.warn(\n"
     ]
    }
   ],
   "source": [
    "# Check with formula\n",
    "# Transform the data point using the scaler\n",
    "scaled_data_point = (scaler.transform(np.array([[X1, X2, X3]])))\n",
    "\n",
    "# Now you can use the scaled data point in your equation\n",
    "y = -18.7433046 * scaled_data_point[0, 0] - 40.49614102 * scaled_data_point[0, 1] + 60.03217949 * scaled_data_point[0, 2] + 557.3055555555555\n",
    "\n",
    "# Print the result\n",
    "print(y)"
   ]
  },
  {
   "cell_type": "code",
   "execution_count": 46,
   "id": "c26065bf",
   "metadata": {},
   "outputs": [
    {
     "name": "stdout",
     "output_type": "stream",
     "text": [
      "    Actual value  Predicted value\n",
      "26           577       594.459598\n",
      "44           782       664.415528\n",
      "7            467       476.684420\n",
      "39           968       707.018087\n",
      "36           640       631.559689\n",
      "46           610       648.539549\n",
      "20           649       677.268290\n",
      "29           534       491.689401\n",
      "19           640       681.031311\n",
      "8            464       496.488527\n",
      "17           714       586.096425\n",
      "32           577       660.957995\n",
      "0.47370315830649634\n"
     ]
    }
   ],
   "source": [
    "# 9)Evaluation matric (Check whether the model is correct or not)\n",
    "        # The evaluation metric for regression  is r^2 between minus infinite to 1\n",
    "        # A higher the R^2 is a better model\n",
    "        \n",
    "from sklearn import metrics\n",
    "\n",
    "y_predict = regression.predict(X_test_scaled)\n",
    "\n",
    "df = pd.DataFrame({'Actual value':y_test, 'Predicted value':y_predict})\n",
    "\n",
    "print(df)\n",
    "print(metrics.r2_score(y_test,y_predict))"
   ]
  }
 ],
 "metadata": {
  "kernelspec": {
   "display_name": "Python 3 (ipykernel)",
   "language": "python",
   "name": "python3"
  },
  "language_info": {
   "codemirror_mode": {
    "name": "ipython",
    "version": 3
   },
   "file_extension": ".py",
   "mimetype": "text/x-python",
   "name": "python",
   "nbconvert_exporter": "python",
   "pygments_lexer": "ipython3",
   "version": "3.10.9"
  }
 },
 "nbformat": 4,
 "nbformat_minor": 5
}
